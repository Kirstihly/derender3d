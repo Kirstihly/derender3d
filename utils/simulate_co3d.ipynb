{
 "cells": [
  {
   "cell_type": "code",
   "execution_count": 1,
   "id": "af43e003",
   "metadata": {},
   "outputs": [],
   "source": [
    "import cv2, glob, os, shutil\n",
    "import numpy as np"
   ]
  },
  {
   "cell_type": "code",
   "execution_count": 2,
   "id": "4639af5a",
   "metadata": {},
   "outputs": [],
   "source": [
    "rgb_dir = '/home/leyinghu/Documents/derender3d/datasets/male/imgs_cropped/val'\n",
    "depth_dir = '/home/leyinghu/Documents/data/smplx_blender_addon_300_20220623/scene_male_kubric'\n",
    "mask_dir = '/home/leyinghu/Documents/derender3d/datasets/male/masks/val'"
   ]
  },
  {
   "cell_type": "code",
   "execution_count": 3,
   "id": "41cb5cc6",
   "metadata": {},
   "outputs": [],
   "source": [
    "objs = glob.glob(os.path.join(depth_dir, 'depth_*.tiff'))\n",
    "objs.sort()\n",
    "assert len(objs) > 0\n",
    "\n",
    "rgbs = glob.glob(os.path.join(rgb_dir, '*.png'))\n",
    "rgbs.sort()\n",
    "assert len(objs) == len(rgbs)"
   ]
  },
  {
   "cell_type": "code",
   "execution_count": 4,
   "id": "c5e2faa7",
   "metadata": {},
   "outputs": [],
   "source": [
    "for i in range(len(objs)):\n",
    "    \n",
    "    # Crop 256x256\n",
    "    w, h = 256, 256\n",
    "    rgba = cv2.imread(rgbs[i], cv2.IMREAD_UNCHANGED)\n",
    "    center_y, center_x = rgba.shape[0] / 2, rgba.shape[1] / 2\n",
    "    x = center_x - w/2\n",
    "    y = center_y - h/2\n",
    "    cropped = rgba[int(y):int(y+h), int(x):int(x+w), :]\n",
    "    cv2.imwrite(os.path.join(rgb_dir, os.path.basename(rgbs[i])), cropped)\n",
    "    \n",
    "    # Masking\n",
    "    obj = cv2.imread(objs[i], cv2.IMREAD_UNCHANGED).astype('uint8')\n",
    "    obj[obj!=0] = 255\n",
    "    mask = cv2.merge((obj,obj,obj))[int(y):int(y+h), int(x):int(x+w), :]\n",
    "    \n",
    "    cv2.imwrite(os.path.join(mask_dir, os.path.basename(rgbs[i])), mask)"
   ]
  },
  {
   "cell_type": "code",
   "execution_count": null,
   "id": "2f20d903",
   "metadata": {},
   "outputs": [],
   "source": []
  }
 ],
 "metadata": {
  "kernelspec": {
   "display_name": "Python 3 (ipykernel)",
   "language": "python",
   "name": "python3"
  },
  "language_info": {
   "codemirror_mode": {
    "name": "ipython",
    "version": 3
   },
   "file_extension": ".py",
   "mimetype": "text/x-python",
   "name": "python",
   "nbconvert_exporter": "python",
   "pygments_lexer": "ipython3",
   "version": "3.8.10"
  }
 },
 "nbformat": 4,
 "nbformat_minor": 5
}
