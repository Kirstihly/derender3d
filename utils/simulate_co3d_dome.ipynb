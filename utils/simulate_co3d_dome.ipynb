{
 "cells": [
  {
   "cell_type": "code",
   "execution_count": 1,
   "id": "af43e003",
   "metadata": {},
   "outputs": [],
   "source": [
    "import cv2, glob, os, shutil\n",
    "import numpy as np"
   ]
  },
  {
   "cell_type": "code",
   "execution_count": 2,
   "id": "4639af5a",
   "metadata": {},
   "outputs": [],
   "source": [
    "rgb_dir = '/home/leyinghu/Documents/argos/argos-simulation/kubric/ArgoSim/SMPLX-male_Compose_white/example_dome_worker/masked'\n",
    "mask_dir = '/home/leyinghu/Documents/argos/argos-simulation/kubric/ArgoSim/SMPLX-male_Compose_white/example_dome_worker/mask'\n",
    "photo_dir = '/home/leyinghu/Documents/derender3d/datasets/photos'"
   ]
  },
  {
   "cell_type": "code",
   "execution_count": 3,
   "id": "41cb5cc6",
   "metadata": {},
   "outputs": [],
   "source": [
    "rgbs = glob.glob(os.path.join(rgb_dir, '*/*.png'))\n",
    "rgbs.sort()\n",
    "\n",
    "masks = glob.glob(os.path.join(mask_dir, '*/*.png'))\n",
    "masks.sort()\n",
    "assert len(rgbs) == len(masks)"
   ]
  },
  {
   "cell_type": "code",
   "execution_count": 4,
   "id": "db8e90f2",
   "metadata": {},
   "outputs": [],
   "source": [
    "output_rgba = os.path.join(photo_dir, 'imgs_cropped', 'val')\n",
    "if os.path.exists(output_rgba):\n",
    "    shutil.rmtree(output_rgba)\n",
    "os.makedirs(output_rgba)\n",
    "\n",
    "output_mask = os.path.join(photo_dir, 'masks', 'val')\n",
    "if os.path.exists(output_mask):\n",
    "    shutil.rmtree(output_mask)\n",
    "os.makedirs(output_mask)"
   ]
  },
  {
   "cell_type": "code",
   "execution_count": 5,
   "id": "c5e2faa7",
   "metadata": {},
   "outputs": [],
   "source": [
    "for i in range(len(rgbs)):\n",
    "    assert rgbs[i][-7:] == masks[i][-7:]\n",
    "    # Crop 256x256\n",
    "    w, h = 256, 256\n",
    "    rgba = cv2.imread(rgbs[i], cv2.IMREAD_UNCHANGED)\n",
    "    center_y, center_x = rgba.shape[0] / 2, rgba.shape[1] / 2\n",
    "    x = center_x - w/2\n",
    "    y = center_y - h/2\n",
    "    cropped = rgba[int(y):int(y+h), int(x):int(x+w), :]\n",
    "    cv2.imwrite(os.path.join(output_rgba, f'{i:06d}.png'), cropped)\n",
    "    \n",
    "    # Masking\n",
    "    mask = cv2.imread(masks[i], cv2.IMREAD_UNCHANGED)\n",
    "    cropped = mask[int(y):int(y+h), int(x):int(x+w), :]\n",
    "    cv2.imwrite(os.path.join(output_mask, f'{i:06d}.png'), cropped)"
   ]
  },
  {
   "cell_type": "code",
   "execution_count": null,
   "id": "6e3fe12f",
   "metadata": {},
   "outputs": [],
   "source": []
  }
 ],
 "metadata": {
  "kernelspec": {
   "display_name": "Python 3 (ipykernel)",
   "language": "python",
   "name": "python3"
  },
  "language_info": {
   "codemirror_mode": {
    "name": "ipython",
    "version": 3
   },
   "file_extension": ".py",
   "mimetype": "text/x-python",
   "name": "python",
   "nbconvert_exporter": "python",
   "pygments_lexer": "ipython3",
   "version": "3.8.10"
  }
 },
 "nbformat": 4,
 "nbformat_minor": 5
}
